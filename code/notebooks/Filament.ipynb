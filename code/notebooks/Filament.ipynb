{
 "cells": [
  {
   "cell_type": "code",
   "execution_count": 2,
   "metadata": {
    "collapsed": false
   },
   "outputs": [],
   "source": [
    "import numpy as np\n",
    "from scipy.integrate import quad, dblquad, nquad"
   ]
  },
  {
   "cell_type": "markdown",
   "metadata": {},
   "source": [
    "The cluster redshift, the angular size diameter, and the kpc/arcmin to cm conversions will be used often, so they are defined here."
   ]
  },
  {
   "cell_type": "code",
   "execution_count": 3,
   "metadata": {
    "collapsed": true
   },
   "outputs": [],
   "source": [
    "z = 0.546    # redshift of MACS J0717.5+3745\n",
    "kpc = 3.086e21    # 1 kpc in cm\n",
    "Mpc = kpc * 1e3   # 1 Mpc in cm\n",
    "d_A = 1.3e6 * kpc    # cm\n",
    "arcmin_to_cm = 383.3 * kpc    # 1 arcmin = 383.3 kpc\n",
    "Msun = 2e33   # solar mass in grams"
   ]
  },
  {
   "cell_type": "markdown",
   "metadata": {},
   "source": [
    "The normalization fitted in Xspec is 4e-5 cm\\*\\*-5 arcmin\\*\\*-2."
   ]
  },
  {
   "cell_type": "code",
   "execution_count": 4,
   "metadata": {
    "collapsed": true
   },
   "outputs": [],
   "source": [
    "norm = 4e-5    # cm**-5 arcmin**-2"
   ]
  },
  {
   "cell_type": "markdown",
   "metadata": {},
   "source": [
    "The region from which the spectrum was extracted is a rectangle with length of 1.2 arcmin and a width of 1 arcmin."
   ]
  },
  {
   "cell_type": "code",
   "execution_count": 5,
   "metadata": {
    "collapsed": false
   },
   "outputs": [],
   "source": [
    "l = 1.2    # arcmin\n",
    "w = 1.0    # arcmin\n",
    "area_in_arcmin = l*w"
   ]
  },
  {
   "cell_type": "markdown",
   "metadata": {},
   "source": [
    "In 3D, the region was assumed to be a parallelepiped with four rectangular faces: two perpendicular to the line of sight, and two parallel to it. Jauzac et al. (2012) found the filament to be inclined at ~75 degrees with respect to the plane of the sky and to have a diameter of ~2.7 Mpc at the cluster-centric radius of our region. Therefore, the volume of the parallelepiped is:"
   ]
  },
  {
   "cell_type": "code",
   "execution_count": 6,
   "metadata": {
    "collapsed": false
   },
   "outputs": [
    {
     "data": {
      "text/plain": [
       "1.8391892428605674"
      ]
     },
     "execution_count": 6,
     "metadata": {},
     "output_type": "execute_result"
    }
   ],
   "source": [
    "D_fil = 2.7e3 * kpc    # diameter of the filament in cm\n",
    "theta = 75./180 * np.pi\n",
    "ppp_V = area_in_arcmin * arcmin_to_cm**2 * D_fil / np.cos(theta)\n",
    "ppp_V / Mpc**3"
   ]
  },
  {
   "cell_type": "markdown",
   "metadata": {},
   "source": [
    "Assuming the density is constant in our region of interest, the Xspec normalization is defined as \n",
    "\n",
    "norm \\* area = n_e \\* n_H \\* ppp_V / ( 1e14 \\* 4 \\* pi \\* D_A\\*\\*2 \\* (1+z)\\*\\*2 )"
   ]
  },
  {
   "cell_type": "markdown",
   "metadata": {},
   "source": [
    "We assume the hydrogen number density relates to the electron number density as: n_e = 1.2 n_H. Therefore, the hydrogen number density is:"
   ]
  },
  {
   "cell_type": "code",
   "execution_count": 7,
   "metadata": {
    "collapsed": false
   },
   "outputs": [
    {
     "name": "stdout",
     "output_type": "stream",
     "text": [
      "The hydrogen number density is 0.00019 cm**-3.\n"
     ]
    }
   ],
   "source": [
    "n_H = np.sqrt( norm * area_in_arcmin * 4e14 * np.pi * d_A**2 * (1+z)**2 / (1.2 * ppp_V) )\n",
    "\n",
    "print(\"The hydrogen number density is %.2g cm**-3.\" % n_H)"
   ]
  },
  {
   "cell_type": "markdown",
   "metadata": {},
   "source": [
    "The gas density within the X-ray-bright part of the filament is:"
   ]
  },
  {
   "cell_type": "code",
   "execution_count": 8,
   "metadata": {
    "collapsed": false
   },
   "outputs": [
    {
     "data": {
      "text/plain": [
       "2.1435531772297614e-27"
      ]
     },
     "execution_count": 8,
     "metadata": {},
     "output_type": "execute_result"
    }
   ],
   "source": [
    "m_H = 1.7e-24    # mass of hydrogen atom in grams\n",
    "rho_H = n_H * m_H    # g cm**-3\n",
    "rho_H/0.15"
   ]
  },
  {
   "cell_type": "markdown",
   "metadata": {},
   "source": [
    "The critical density of the universe at the cluster redshift is 1.7e-29 g/cm\\*\\*3. Assuming the total baryon density is 4.4% the critical density of the universe (Kirkman et al. 2003), the density of the filament relative to the mean baryon density of the universe is:"
   ]
  },
  {
   "cell_type": "code",
   "execution_count": 9,
   "metadata": {
    "collapsed": false
   },
   "outputs": [
    {
     "name": "stdout",
     "output_type": "stream",
     "text": [
      "The overdensity of the filament relative to the mean matter density of the universe is 430.\n"
     ]
    }
   ],
   "source": [
    "rho_crit = 1.7e-29    # g cm**-3\n",
    "overdensity1 = rho_H / (rho_crit * 0.044)\n",
    "print(\"The overdensity of the filament relative to the mean matter density of the universe is %.0f.\" % overdensity1)"
   ]
  },
  {
   "cell_type": "markdown",
   "metadata": {},
   "source": [
    "Assuming a baryon mass fraction of 0.15 (e.g., Mantz et al. 2014), the overdensity of the filament relative to the critical density of the universe is:"
   ]
  },
  {
   "cell_type": "code",
   "execution_count": 10,
   "metadata": {
    "collapsed": false
   },
   "outputs": [
    {
     "name": "stdout",
     "output_type": "stream",
     "text": [
      "3.14986565781e+13\n",
      "The overdensity of the filament relative to the critical density of the universe is 126.\n"
     ]
    }
   ],
   "source": [
    "rho_filament = rho_H / 0.15\n",
    "print(rho_filament/Msun * Mpc**3)\n",
    "overdensity2 = rho_filament / rho_crit\n",
    "print(\"The overdensity of the filament relative to the critical density of the universe is %.0f.\" % overdensity2)"
   ]
  },
  {
   "cell_type": "markdown",
   "metadata": {},
   "source": [
    "For the assumed 3D geometry, the baryon mass of the filament in the region from which the spectra were extracted is:"
   ]
  },
  {
   "cell_type": "code",
   "execution_count": 17,
   "metadata": {
    "collapsed": false
   },
   "outputs": [
    {
     "name": "stdout",
     "output_type": "stream",
     "text": [
      "The baryonic mass of the filament in our region is ~8.7e+12 Msun.\n"
     ]
    }
   ],
   "source": [
    "M_sun = 2e33    # mass of the Sun in grams\n",
    "M_fil_bary_reg = rho_H * ppp_V / M_sun\n",
    "print(\"The baryonic mass of the filament in our region is ~%.2g Msun.\" % M_fil_bary_reg)"
   ]
  },
  {
   "cell_type": "markdown",
   "metadata": {},
   "source": [
    "For the assumed baryon mass fraction, the total mass of the filament in the region from which the spectra were extracted is:"
   ]
  },
  {
   "cell_type": "code",
   "execution_count": 18,
   "metadata": {
    "collapsed": false
   },
   "outputs": [
    {
     "name": "stdout",
     "output_type": "stream",
     "text": [
      "The mass of the filament in our region is ~5.8e+13 Msun.\n"
     ]
    }
   ],
   "source": [
    "M_fil_reg = M_fil_bary_reg / 0.15\n",
    "print(\"The mass of the filament in our region is ~%.2g Msun.\" % M_fil_reg)"
   ]
  }
 ],
 "metadata": {
  "kernelspec": {
   "display_name": "Python 3",
   "language": "python",
   "name": "python3"
  },
  "language_info": {
   "codemirror_mode": {
    "name": "ipython",
    "version": 3
   },
   "file_extension": ".py",
   "mimetype": "text/x-python",
   "name": "python",
   "nbconvert_exporter": "python",
   "pygments_lexer": "ipython3",
   "version": "3.5.2"
  }
 },
 "nbformat": 4,
 "nbformat_minor": 0
}

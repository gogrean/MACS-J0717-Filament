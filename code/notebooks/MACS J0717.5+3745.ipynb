{
 "cells": [
  {
   "cell_type": "markdown",
   "metadata": {},
   "source": [
    "# Analysis of the Chandra Data of MACS J0717.5+3745"
   ]
  },
  {
   "cell_type": "markdown",
   "metadata": {},
   "source": [
    "### 1. Reprocess the Chandra ObsIDs"
   ]
  },
  {
   "cell_type": "markdown",
   "metadata": {},
   "source": [
    "Define the ObsIDs used in the analysis."
   ]
  },
  {
   "cell_type": "code",
   "execution_count": null,
   "metadata": {
    "collapsed": false
   },
   "outputs": [],
   "source": [
    "obsid1=\"16235\"\n",
    "obsid2=\"16305\"\n",
    "obsid3=\"4200\"\n",
    "obsid4=\"1655\""
   ]
  },
  {
   "cell_type": "markdown",
   "metadata": {},
   "source": [
    "Reprocess each dataset to create new level=2 event files with the newest calibration applied. We used CIAO 4.8.2 and CALDB 4.7.0. In <i>chandra_repro</i>, the parameter `check_vf_pha` is set by default to `no`. This parameter should be set to `yes` if an observation was taken in VFAINT mode, so one needs to check the mode of each ObsID."
   ]
  },
  {
   "cell_type": "code",
   "execution_count": null,
   "metadata": {
    "collapsed": false
   },
   "outputs": [],
   "source": [
    "punlearn ardlib"
   ]
  },
  {
   "cell_type": "code",
   "execution_count": null,
   "metadata": {
    "collapsed": true
   },
   "outputs": [],
   "source": [
    "for obsid in $obsid1 $obsid2 $obsid3 $obsid4\n",
    "do\n",
    "    mode_obsid=`dmkeypar ${obsid}/primary/*${obsid}*evt2.fits.gz DATAMODE echo+`\n",
    "    rm -rf ${obsid}/repro\n",
    "    mkdir ${obsid}/repro\n",
    "\n",
    "    if [ $mode_obsid == 'VFAINT' ]\n",
    "    then\n",
    "        chandra_repro indir=$obsid outdir=$obsid/repro check_vf_pha=yes clobber+\n",
    "    else\n",
    "        chandra_repro indir=$obsid outdir=$obsid/repro clobber+\n",
    "    fi\n",
    "done"
   ]
  },
  {
   "cell_type": "markdown",
   "metadata": {},
   "source": [
    "### 2. Flare-Filter the Data"
   ]
  },
  {
   "cell_type": "markdown",
   "metadata": {},
   "source": [
    "The flare filtering was done in the energy band 0.5-7 keV. It consists of two steps:\n",
    "<ol>\n",
    "<li>Bright sources are detected and removed from the event files. The point source detection done at this point can be less thorough than it will be done later on.</li>\n",
    "<li>Flares are detected in light curves free of bright sources.</li>\n",
    "</ol>"
   ]
  },
  {
   "cell_type": "code",
   "execution_count": null,
   "metadata": {
    "collapsed": false
   },
   "outputs": [],
   "source": [
    "punlearn ardlib\n",
    "punlearn mkpsfmap\n",
    "punlearn wavdetect\n",
    "punlearn fluximage\n",
    "\n",
    "for obsid in $obsid1 $obsid2 $obsid3 $obsid4\n",
    "do\n",
    "    acis_set_ardlib ${obsid}/repro/*_repro_bpix1.fits\n",
    "    len=${#obsid}\n",
    "\n",
    "    if [ ${len} -eq 4 ]\n",
    "    then\n",
    "        fluximage infile=${obsid}/repro/acisf0${obsid}_repro_evt2.fits \\\n",
    "            outroot=${obsid}/repro/${obsid} bands=0.5:7:2.3 binsize=4 clobber+\n",
    "    else\n",
    "        fluximage infile=${obsid}/repro/acisf${obsid}_repro_evt2.fits \\\n",
    "            outroot=${obsid}/repro/${obsid} bands=0.5:7:2.3 binsize=4 clobber+\n",
    "    fi\n",
    "\n",
    "    mkpsfmap ${obsid}/repro/${obsid}_0.5-7_thresh.img ${obsid}/repro/${obsid}_0.5-7keV.psf \\\n",
    "        energy=2.3 ecf=0.9 clobber+\n",
    "\n",
    "    wavdetect infile=${obsid}/repro/${obsid}_0.5-7_thresh.img psffile=${obsid}/repro/${obsid}_0.5-7keV.psf \\\n",
    "        expfile=${obsid}/repro/${obsid}_0.5-7_thresh.expmap outfile=${obsid}/repro/src_0.5-7keV.fits \\\n",
    "        scellfile=${obsid}/repro/scell_0.5-7keV.fits imagefile=${obsid}/repro/src_0.5-7keV.img \\\n",
    "        defnbkgfile=${obsid}/repro/nbkg_0.5-7keV.fits regfile=${obsid}/repro/${obsid}_src_0.5-7keV.reg \\\n",
    "        scales=\"1.0 2.0 4.0 8.0 16.0 32.0\" sigthresh=5e-6 ellsigma=5.0 clobber+\n",
    "done"
   ]
  },
  {
   "cell_type": "markdown",
   "metadata": {},
   "source": [
    "The region files created by <i>wavdetect</i> have an additional region (circle) added to them to exclude emission from the cluster. The final region files are saved in physical coordinates as:\n",
    "* 1655_src_0.5-7keV_phys.reg\n",
    "* 4200_src_0.5-7keV_phys.reg\n",
    "* 16235_src_0.5-7keV_phys.reg\n",
    "* 16305_src_0.5-7keV_phys.reg\n",
    "\n",
    "and are available in the corresponding `<ObsID>/repro` directories available in the Github repository.\n",
    "\n",
    "Next, the bright sources are masked in the event files, and flares are detected and removed from all ObsIDs."
   ]
  },
  {
   "cell_type": "code",
   "execution_count": null,
   "metadata": {
    "collapsed": false
   },
   "outputs": [],
   "source": [
    "punlearn dmcopy\n",
    "punlearn dmextract\n",
    "punlearn deflare\n",
    "\n",
    "for obsid in $obsid1 $obsid2 $obsid3 $obsid4\n",
    "do\n",
    "    len=${#obsid}\n",
    "\n",
    "    if [ $len -eq 4 ]\n",
    "    then\n",
    "        dmcopy \"${obsid}/repro/acisf0${obsid}_repro_evt2.fits[exclude sky=region(${obsid}/repro/${obsid}_src_0.5-7keV_phys.reg)]\" \\\n",
    "            ${obsid}/repro/${obsid}_nosources.evt option=all clobber+\n",
    "    else\n",
    "        dmcopy \"${obsid}/repro/acisf${obsid}_repro_evt2.fits[exclude sky=region(${obsid}/repro/${obsid}_src_0.5-7keV_phys.reg)]\" \\\n",
    "            ${obsid}/repro/${obsid}_nosources.evt option=all clobber+\n",
    "    fi\n",
    "\n",
    "    dmcopy \"${obsid}/repro/${obsid}_nosources.evt[energy=500:7000]\" \\\n",
    "        ${obsid}/repro/${obsid}_0.5-7keV_nosources.evt option=all clobber+\n",
    "\n",
    "    dmextract infile=\"${obsid}/repro/${obsid}_0.5-7keV_nosources.evt[bin time=::259.28]\" \\\n",
    "        outfile=${obsid}/repro/${obsid}_0.5-7keV.lc opt=ltc1 clobber+\n",
    "\n",
    "    deflare ${obsid}/repro/${obsid}_0.5-7keV.lc ${obsid}/repro/${obsid}_0.5-7keV.gti method=clean\n",
    "\n",
    "    if [ $len -eq 4 ]\n",
    "    then\n",
    "        dmcopy \"${obsid}/repro/acisf0${obsid}_repro_evt2.fits[@${obsid}/repro/${obsid}_0.5-7keV.gti]\" \\\n",
    "            ${obsid}/repro/acisf${obsid}_clean.evt opt=all clobber+\n",
    "    else\n",
    "        dmcopy \"${obsid}/repro/acisf${obsid}_repro_evt2.fits[@${obsid}/repro/${obsid}_0.5-7keV.gti]\" \\\n",
    "            ${obsid}/repro/acisf${obsid}_clean.evt opt=all clobber+\n",
    "    fi\n",
    "done"
   ]
  },
  {
   "cell_type": "markdown",
   "metadata": {},
   "source": [
    "### 3. Reproject ObsIDs"
   ]
  },
  {
   "cell_type": "markdown",
   "metadata": {},
   "source": [
    "The flare-filtered event files were reprojected to a common reference frame. A merged event file that combines the individual event files is also created."
   ]
  },
  {
   "cell_type": "code",
   "execution_count": null,
   "metadata": {
    "collapsed": false
   },
   "outputs": [],
   "source": [
    "punlearn reproject_obs\n",
    "\n",
    "pcad_obsid1=`find ${obsid1}/repro -name \"pcadf*_asol1.fits\"`\n",
    "pcad_obsid2=`find ${obsid2}/repro -name \"pcadf*_asol1.fits\"`\n",
    "pcad_obsid3=`find ${obsid3}/repro -name \"pcadf*_asol1.fits\"`\n",
    "pcad_obsid4=`find ${obsid4}/repro -name \"pcadf*_asol1.fits\"`\n",
    "\n",
    "mkdir merged4\n",
    "reproject_obs \"${obsid1}/repro/acisf${obsid1}_clean.evt,\\\n",
    "               ${obsid2}/repro/acisf${obsid2}_clean.evt,\\\n",
    "               ${obsid3}/repro/acisf${obsid3}_clean.evt,\\\n",
    "               ${obsid4}/repro/acisf${obsid4}_clean.evt\" ./merged4/ \\\n",
    "    asolfiles=\"${pcad_obsid1},${pcad_obsid2},${pcad_obsid3},${pcad_obsid4}\" \\\n",
    "    merge=yes clobber+"
   ]
  },
  {
   "cell_type": "markdown",
   "metadata": {},
   "source": [
    "### 4. Make Stowed Background Event Files"
   ]
  },
  {
   "cell_type": "markdown",
   "metadata": {},
   "source": [
    "Stowed background event files appropriate for each ObsID were created from the individual CCD stowed background event files distributed with the Chandra CalDB. The stowed background event files were then reprojected to match the reprojected ObsIDs, and additionally filtered if they were associated with an observation taken in VFAINT mode."
   ]
  },
  {
   "cell_type": "code",
   "execution_count": null,
   "metadata": {
    "collapsed": false
   },
   "outputs": [],
   "source": [
    "/bin/cp -f /Users/gogrean/astrosoft/ciao/ciao-4.8/CALDB/data/chandra/acis/bkgrnd/acis?D2009*bgstow_cti*.fits \\\n",
    "           ${obsid1}/repro/\n",
    "/bin/cp -f /Users/gogrean/astrosoft/ciao/ciao-4.8/CALDB/data/chandra/acis/bkgrnd/acis?D2009*bgstow_cti*.fits \\\n",
    "           ${obsid2}/repro/\n",
    "/bin/cp -f /Users/gogrean/astrosoft/ciao/ciao-4.8/CALDB/data/chandra/acis/bkgrnd/acis?D2000*bgstow_cti*.fits \\\n",
    "           ${obsid3}/repro/\n",
    "/bin/cp -f /Users/gogrean/astrosoft/ciao/ciao-4.8/CALDB/data/chandra/acis/bkgrnd/acis?D2000*bgstow_cti*.fits \\\n",
    "           ${obsid4}/repro/"
   ]
  },
  {
   "cell_type": "code",
   "execution_count": null,
   "metadata": {
    "collapsed": false
   },
   "outputs": [],
   "source": [
    "punlearn dmmerge\n",
    "punlearn dmmakepar\n",
    "punlearn reproject_events\n",
    "\n",
    "for obsid in ${obsid1} ${obsid2}\n",
    "do\n",
    "    dmmerge \"${obsid}/repro/acis0D2009-09-21bgstow_ctiN0001.fits,\\\n",
    "             ${obsid}/repro/acis1D2009-09-21bgstow_ctiN0001.fits,\\\n",
    "             ${obsid}/repro/acis2D2009-09-21bgstow_ctiN0001.fits,\\\n",
    "             ${obsid}/repro/acis3D2009-09-21bgstow_ctiN0001.fits\" \\\n",
    "             ${obsid}/repro/acisD2009_bgstow.evt clobber+\n",
    "    dmmakepar merged4/${obsid}_reproj_evt.fits merged4/event_header.par clobber+\n",
    "    grep _pnt merged4/event_header.par > merged4/event_pnt.par\n",
    "    chmod +w ${obsid}/repro/acisD2009_bgstow.evt\n",
    "    dmreadpar merged4/event_pnt.par \\\n",
    "        \"${obsid}/repro/acisD2009_bgstow.evt[events]\" clobber=yes\n",
    "    reproject_events infile=${obsid}/repro/acisD2009_bgstow.evt \\\n",
    "        outfile=merged4/${obsid}_bgstow.evt aspect=\"@${obsid}.aspect\" \\\n",
    "        match=merged4/${obsid}_reproj_evt.fits random=0 clobber+\n",
    "    rm -f merged4/event_header.par\n",
    "done\n",
    "\n",
    "for obsid in ${obsid3} ${obsid4}\n",
    "do\n",
    "    dmmerge \"${obsid}/repro/acis0D2000-12-01bgstow_ctiN0004.fits,\\\n",
    "             ${obsid}/repro/acis1D2000-12-01bgstow_ctiN0004.fits,\\\n",
    "             ${obsid}/repro/acis2D2000-12-01bgstow_ctiN0002.fits,\\\n",
    "             ${obsid}/repro/acis3D2000-12-01bgstow_ctiN0004.fits,\\\n",
    "             ${obsid}/repro/acis6D2000-12-01bgstow_ctiN0004.fits\" \\\n",
    "             ${obsid}/repro/acisD2000_bgstow.evt clobber+\n",
    "    dmmakepar merged4/${obsid}_reproj_evt.fits merged4/event_header.par clobber+\n",
    "    grep _pnt merged4/event_header.par > merged4/event_pnt.par\n",
    "    chmod +w ${obsid}/repro/acisD2000_bgstow.evt\n",
    "    dmreadpar merged4/event_pnt.par \\\n",
    "        \"${obsid}/repro/acisD2000_bgstow.evt[events]\" clobber=yes\n",
    "    reproject_events infile=${obsid}/repro/acisD2000_bgstow.evt \\\n",
    "        outfile=merged4/${obsid}_bgstow.evt aspect=\"@${obsid}.aspect\" \\\n",
    "        match=merged4/${obsid}_reproj_evt.fits random=0 clobber+\n",
    "    rm -f merged4/event_header.par\n",
    "done\n",
    "\n",
    "punlearn dmcopy\n",
    "for obsid in $obsid1 $obsid2 $obsid3 $obsid4\n",
    "do\n",
    "    mode_obsid=`dmkeypar ${obsid}/primary/*${obsid}*evt2.fits.gz DATAMODE echo+`\n",
    "    if [ ${mode_obsid} == 'VFAINT' ]\n",
    "    then\n",
    "        echo \"${obsid} taken in ${mode_obsid} mode.\"\n",
    "        dmcopy \"merged4/${obsid}_bgstow.evt[status=0]\" \\\n",
    "        merged4/${obsid}_bgstow_clean.evt clobber+\n",
    "    else\n",
    "        cp merged4/${obsid}_bgstow.evt merged4/${obsid}_bgstow_clean.evt\n",
    "        echo \"${obsid} taken in ${mode_obsid} mode.\"\n",
    "    fi\n",
    "done"
   ]
  },
  {
   "cell_type": "markdown",
   "metadata": {},
   "source": [
    "### 5. Detect Point Sources"
   ]
  },
  {
   "cell_type": "markdown",
   "metadata": {},
   "source": [
    "(a) We created images and exposure maps in 0.5-2 and 2-7 keV. These are the energy bands in which point sources were later detected."
   ]
  },
  {
   "cell_type": "code",
   "execution_count": null,
   "metadata": {
    "collapsed": false
   },
   "outputs": [],
   "source": [
    "punlearn flux_obs\n",
    "\n",
    "flux_obs \"merged4/${obsid1}_reproj_evt.fits,\\\n",
    "          merged4/${obsid2}_reproj_evt.fits,\\\n",
    "          merged4/${obsid3}_reproj_evt.fits,\\\n",
    "          merged4/${obsid4}_reproj_evt.fits\" \\\n",
    "    merged4/ bands=0.5:2.0:1.5 binsize=2 \\\n",
    "    maskfiles=\"merged4/${obsid1}.mask,merged4/${obsid2}.mask,\\\n",
    "               merged4/${obsid3}.mask,merged4/${obsid4}.mask\" \\\n",
    "    badpixfiles=\"merged4/${obsid1}.bpix,merged4/${obsid2}.bpix,\\\n",
    "                 merged4/${obsid3}.bpix,merged4/${obsid4}.bpix\" \\\n",
    "    expmapthresh=\"3%\" clobber+\n",
    "\n",
    "flux_obs \"merged4/${obsid1}_reproj_evt.fits,\\\n",
    "          merged4/${obsid2}_reproj_evt.fits,\\\n",
    "          merged4/${obsid3}_reproj_evt.fits,\\\n",
    "          merged4/${obsid4}_reproj_evt.fits\" \\\n",
    "    merged4/ bands=2.0:7.0:3.8 binsize=2 \\\n",
    "    maskfiles=\"merged4/${obsid1}.mask,merged4/${obsid2}.mask,\\\n",
    "               merged4/${obsid3}.mask,merged4/${obsid4}.mask\" \\\n",
    "    badpixfiles=\"merged4/${obsid1}.bpix,merged4/${obsid2}.bpix,\\\n",
    "                 merged4/${obsid3}.bpix,merged4/${obsid4}.bpix\" \\\n",
    "    expmapthresh=\"3%\" clobber+"
   ]
  },
  {
   "cell_type": "markdown",
   "metadata": {},
   "source": [
    "(b) We created PSF maps for each of the ObsIDs, and combined them into an exposure map-weighed merged PSF map."
   ]
  },
  {
   "cell_type": "code",
   "execution_count": null,
   "metadata": {
    "collapsed": false
   },
   "outputs": [],
   "source": [
    "punlearn mkpsfmap\n",
    "for obsid in ${obsid1} ${obsid2} ${obsid3} ${obsid4}\n",
    "do\n",
    "    mkpsfmap merged4/${obsid}_0.5-2.0_thresh.img \\\n",
    "        merged4/${obsid}_0.5-2.0.psf energy=1.5 ecf=0.9 clobber+\n",
    "    mkpsfmap merged4/${obsid}_2.0-7.0_thresh.img \\\n",
    "        merged4/${obsid}_2.0-7.0.psf energy=3.8 ecf=0.9 clobber+\n",
    "done\n",
    "\n",
    "dmimgcalc \"merged4/${obsid1}_0.5-2.0_thresh.expmap,\\\n",
    "           merged4/${obsid2}_0.5-2.0_thresh.expmap,\\\n",
    "           merged4/${obsid3}_0.5-2.0_thresh.expmap,\\\n",
    "           merged4/${obsid4}_0.5-2.0_thresh.expmap,\\\n",
    "           merged4/${obsid1}_0.5-2.0.psf,merged4/${obsid2}_0.5-2.0.psf,\\\n",
    "           merged4/${obsid3}_0.5-2.0.psf,merged4/${obsid4}_0.5-2.0.psf\" \\\n",
    "    none merged4/expweighted_0.5-2.0.psf \\\n",
    "    op=\"imgout=((img5*img1)+(img6*img2)+(img7*img3)+(img8*img4))/(img1+img2+img3+img4)\" clobber+\n",
    "dmhedit merged4/expweighted_0.5-2.0.psf file= op=add key=BUNIT value=\"arcsec\"\n",
    "\n",
    "dmimgcalc \"merged4/${obsid1}_2.0-7.0_thresh.expmap,\\\n",
    "           merged4/${obsid2}_2.0-7.0_thresh.expmap,\\\n",
    "           merged4/${obsid3}_2.0-7.0_thresh.expmap,\\\n",
    "           merged4/${obsid4}_2.0-7.0_thresh.expmap,\\\n",
    "           merged4/${obsid1}_2.0-7.0.psf,merged4/${obsid2}_2.0-7.0.psf,\\\n",
    "           merged4/${obsid3}_2.0-7.0.psf,merged4/${obsid4}_2.0-7.0.psf\" \\\n",
    "    none merged4/expweighted_2.0-7.0.psf \\\n",
    "    op=\"imgout=((img5*img1)+(img6*img2)+(img7*img3)+(img8*img4))/(img1+img2+img3+img4)\" clobber+\n",
    "dmhedit merged4/expweighted_2.0-7.0.psf file= op=add key=BUNIT value=\"arcsec\""
   ]
  },
  {
   "cell_type": "markdown",
   "metadata": {},
   "source": [
    "(c) Finally, we detected point sources in 0.5-2 and 2-7 keV."
   ]
  },
  {
   "cell_type": "code",
   "execution_count": null,
   "metadata": {
    "collapsed": false
   },
   "outputs": [],
   "source": [
    "punlearn wavdetect\n",
    "\n",
    "wavdetect infile=merged4/0.5-2.0_thresh.img psffile=merged4/expweighted_0.5-2.0.psf \\\n",
    "    expfile=merged4/0.5-2.0_thresh.expmap outfile=merged4/src_0.5-2.0.fits \\\n",
    "    scellfile=merged4/scell_0.5-2.0.fits imagefile=merged4/src_0.5-2.0.img \\\n",
    "    defnbkgfile=merged4/nbkg_0.5-2.0.fits regfile=merged4/src_0.5-2.0.reg \\\n",
    "    scales=\"1.0 2.0 4.0 8.0 16.0 32.0\" sigthresh=1e-4 ellsigma=5.0 clobber+\n",
    "\n",
    "wavdetect infile=merged4/2.0-7.0_thresh.img psffile=merged4/expweighted_2.0-7.0.psf \\\n",
    "    expfile=merged4/2.0-7.0_thresh.expmap outfile=merged4/src_2.0-7.0.fits \\\n",
    "    scellfile=merged4/scell_2.0-7.0.fits imagefile=merged4/src_2.0-7.0.img \\\n",
    "    defnbkgfile=merged4/nbkg_2.0-7.0.fits regfile=merged4/src_2.0-7.0.reg \\\n",
    "    scales=\"1.0 2.0 4.0 8.0 16.0 32.0\" sigthresh=1e-4 ellsigma=5.0 clobber+"
   ]
  },
  {
   "cell_type": "markdown",
   "metadata": {},
   "source": [
    "(d) The point sources detected by <i>wavdetect</i> were checked visually, and point sources in the brightest parts of the ICM were checked against the VLA and HST images. Fake detections were removed, while missed point sources were added to the final region definition. The final point source region file was saved as `src_J2000.reg` in J2000 coordinates, and `src_phys.reg` in physical coordinates (the latter as an exclusion file, i.e. field() - circle(params))."
   ]
  },
  {
   "cell_type": "markdown",
   "metadata": {},
   "source": [
    "### 6. Remove Point Sources"
   ]
  },
  {
   "cell_type": "markdown",
   "metadata": {},
   "source": [
    "Point sources were removed from the source and stowed background event files of each ObsID. Additionally, the edges of the ACIS-I detector were removed in regions of width ~30 arcsec. Only the ACIS-I CCDs were used in the analysis, so any other CCDs that were on during the observations were removed from the final event files."
   ]
  },
  {
   "cell_type": "code",
   "execution_count": null,
   "metadata": {
    "collapsed": false
   },
   "outputs": [],
   "source": [
    "punlearn dmcopy\n",
    "\n",
    "for obsid in $obsid1 $obsid2 $obsid3 $obsid4\n",
    "do\n",
    "    dmcopy \"merged4/${obsid}_reproj_evt.fits[ccd_id=0:3][sky=region(merged4/${obsid}_src_edges_phys.reg)]\" \\\n",
    "        merged4/${obsid}_goodreg.evt opt=all clobber+\n",
    "    dmcopy \"merged4/${obsid}_bgstow_clean.evt[ccd_id=0:3][sky=region(merged4/${obsid}_src_edges_phys.reg)]\" \\\n",
    "        merged4/${obsid}_bgstow_goodreg.evt opt=all clobber+\n",
    "done"
   ]
  },
  {
   "cell_type": "markdown",
   "metadata": {
    "collapsed": true
   },
   "source": [
    "### 7. Images Free of Point Sources"
   ]
  },
  {
   "cell_type": "markdown",
   "metadata": {},
   "source": [
    "The imaging analysis requires images free of point sources. These images are created below in the energy band 0.5-4 keV. "
   ]
  },
  {
   "cell_type": "markdown",
   "metadata": {},
   "source": [
    "First, we created a spectral weights file that will be used by <i>flux_obs</i> to create weighted instrument maps. The maps are used (behind the scenes, also by <i>flux_obs</i>) when generating the exposure maps for each of the ObsIDs."
   ]
  },
  {
   "cell_type": "code",
   "execution_count": null,
   "metadata": {
    "collapsed": false
   },
   "outputs": [],
   "source": [
    "punlearn make_instmap_weights\n",
    "make_instmap_weights merged4/weights_500-4000.txt \"xsphabs.gal*xsapec.th\" \\\n",
    "    paramvals=\"gal.nh=0.084;th.kT=12.0;th.abundanc=0.20;th.redshift=0.5458\" \\\n",
    "    emin=0.5 emax=4.0 ewidth=0.25 clobber+"
   ]
  },
  {
   "cell_type": "markdown",
   "metadata": {},
   "source": [
    "Merged point source-free images with spatial resolutions of 0.5, 1, and 2 arcsec were then created using <i>flux_obs</i>. Running the cell below will likely take several minutes."
   ]
  },
  {
   "cell_type": "code",
   "execution_count": null,
   "metadata": {
    "collapsed": false
   },
   "outputs": [],
   "source": [
    "punlearn flux_obs\n",
    "for bin in \"1\" \"2\" \"4\"\n",
    "do\n",
    "    flux_obs \"merged4/${obsid1}_goodreg.evt,merged4/${obsid2}_goodreg.evt,\\\n",
    "              merged4/${obsid3}_goodreg.evt,merged4/${obsid4}_goodreg.evt\" \\\n",
    "        merged4/srcfree_bin${bin}_500-4000_ bands=merged4/weights_500-4000.txt \\\n",
    "        binsize=${bin} maskfiles=\"merged4/${obsid1}.mask,merged4/${obsid2}.mask,\\\n",
    "                                  merged4/${obsid3}.mask,merged4/${obsid4}.mask\" \\\n",
    "        badpixfiles=\"merged4/${obsid1}.bpix,merged4/${obsid2}.bpix, \\\n",
    "                     merged4/${obsid3}.bpix,merged4/${obsid4}.bpix\" \\\n",
    "        expmapthresh=\"3%\" clobber+\n",
    "done"
   ]
  },
  {
   "cell_type": "markdown",
   "metadata": {},
   "source": [
    "Regions contaminated by point sources are not automatically excluded from the exposure maps. However, when modeling surface brightness profiles, it is important to exclude these regions in order to correctly calculate the surface brightness. If a pixel is 0 in the source image, it could be 0 because no photon hit it. However, it could also be 0 because it is part of a region contaminated by a point source and excluded from the image (dmcopy sets the pixels in excluded regions to 0). On the other hand, the exposure images are non-zero at all the pixels of the CCDs. Therefore, to differentiate between these two cases in which a pixel is 0, the regions contaminated by point sources are excluded from the exposure maps."
   ]
  },
  {
   "cell_type": "code",
   "execution_count": null,
   "metadata": {
    "collapsed": false
   },
   "outputs": [],
   "source": [
    "punlearn dmcopy\n",
    "\n",
    "for bin in \"bin1\" \"bin2\" \"bin4\"\n",
    "do\n",
    "    for obsid in ${obsid1} ${obsid2} ${obsid3} ${obsid4}\n",
    "    do\n",
    "        expmap=\"merged4/srcfree_${bin}_500-4000_${obsid}_band1_thresh.expmap\"\n",
    "        regfile=\"merged4/${obsid}_src_edges_phys.reg\"\n",
    "        dmcopy \"$expmap[sky=region($regfile)]\" \\\n",
    "            merged4/srcfree_${bin}_500-4000_${obsid}_thresh.expmap_nosrcedg clobber+\n",
    "    done\n",
    "done\n"
   ]
  },
  {
   "cell_type": "code",
   "execution_count": null,
   "metadata": {
    "collapsed": false
   },
   "outputs": [],
   "source": [
    "for bin in \"bin1\" \"bin2\" \"bin4\"\n",
    "do\n",
    "    dmimgcalc \"merged4/srcfree_${bin}_500-4000_${obsid1}_thresh.expmap_nosrcedg, \\\n",
    "               merged4/srcfree_${bin}_500-4000_${obsid2}_thresh.expmap_nosrcedg, \\\n",
    "               merged4/srcfree_${bin}_500-4000_${obsid3}_thresh.expmap_nosrcedg, \\\n",
    "               merged4/srcfree_${bin}_500-4000_${obsid4}_thresh.expmap_nosrcedg\" \\\n",
    "        none merged4/srcfree_${bin}_500-4000_thresh.expmap_nosrcedg \\\n",
    "        op=\"imgout=img1+img2+img3+img4\" clobber+\n",
    "done"
   ]
  },
  {
   "cell_type": "markdown",
   "metadata": {},
   "source": [
    "We also created stowed background images free of point sources. These images have a different exposure time than the observations, so in the next step they will be renormalized to have the same 10-12 keV count rate as the corresponding ObsIDs."
   ]
  },
  {
   "cell_type": "code",
   "execution_count": null,
   "metadata": {
    "collapsed": false
   },
   "outputs": [],
   "source": [
    "punlearn dmcopy\n",
    "\n",
    "bin1=\"x=2379.5:6113.5:1,y=2469.5:5881.5:1\"\n",
    "bin2=\"x=2378.5:6114.5:2,y=2468.5:5882.5:2\"\n",
    "bin4=\"x=2376.5:6116.5:4,y=2468.5:5884.5:4\"\n",
    "\n",
    "for obsid in ${obsid1} ${obsid2} ${obsid3} ${obsid4}\n",
    "do\n",
    "    dmcopy \"merged4/${obsid}_bgstow_goodreg.evt[energy=500:4000][bin ${bin1}]\" \\\n",
    "        merged4/${obsid}_bin1_500-4000_bgstow_goodreg.img opt=image clobber+\n",
    "    dmcopy \"merged4/${obsid}_bgstow_goodreg.evt[energy=500:4000][bin ${bin2}]\" \\\n",
    "        merged4/${obsid}_bin2_500-4000_bgstow_goodreg.img opt=image clobber+\n",
    "    dmcopy \"merged4/${obsid}_bgstow_goodreg.evt[energy=500:4000][bin ${bin4}]\" \\\n",
    "        merged4/${obsid}_bin4_500-4000_bgstow_goodreg.img opt=image clobber+\n",
    "done"
   ]
  },
  {
   "cell_type": "markdown",
   "metadata": {},
   "source": [
    "### 8. Calculate Background Normalizations"
   ]
  },
  {
   "cell_type": "markdown",
   "metadata": {},
   "source": [
    "The cell below prints the counts in a region that excludes point sources, cluster emission, and the edges of the ACIS-I detector. The exclusion regions were saved in the files `ObsID_skybkg.reg`, which can be found in the `merged4` directory. The cell also prints the exposure time of the ObsID and the stowed background event files."
   ]
  },
  {
   "cell_type": "code",
   "execution_count": null,
   "metadata": {
    "collapsed": false
   },
   "outputs": [],
   "source": [
    "for obsid in ${obsid1} ${obsid2} ${obsid3} ${obsid4}\n",
    "do\n",
    "    printf \"ObsID ${obsid} 10-12 keV counts and exp time:\\n\"\n",
    "    dmstat \"merged4/${obsid}_goodreg.evt[sky=region(merged4/${obsid}_skybkg.reg)][energy=10000:12000][col grade]\" \\\n",
    "        centroid=no | grep -i \"good:\"\n",
    "    expo=`dmkeypar \"merged4/${obsid}_goodreg.evt[EVENTS]\" EXPOSURE echo+`\n",
    "    printf \"Exposure time source (s): $expo\\n\\n\"\n",
    "    printf \"Bgstow for ObsID ${obsid} -- 10-12 keV counts and exp time:\\n\"\n",
    "    dmstat \"merged4/${obsid}_bgstow_goodreg.evt[sky=region(merged4/${obsid}_skybkg.reg)][energy=10000:12000][col grade]\" \\\n",
    "        centroid=no | grep -i \"good:\"\n",
    "    expo=`dmkeypar \"merged4/${obsid}_bgstow_goodreg.evt[EVENTS]\" EXPOSURE echo+`\n",
    "    printf \"Exposure time background (s): $expo\\n\\n\\n\\n\"\n",
    "done"
   ]
  },
  {
   "cell_type": "markdown",
   "metadata": {},
   "source": [
    "The correction factors were calculated as:\n",
    "\n",
    "&nbsp;&nbsp;&nbsp;&nbsp;&nbsp; `norm_factor = counts_ObsID / counts_bgstow * exp_bgstow / exp_ObsID `"
   ]
  },
  {
   "cell_type": "markdown",
   "metadata": {},
   "source": [
    "This yields the following normalization factors for the four ObsIDs:\n",
    "\n",
    "&nbsp;&nbsp;&nbsp;&nbsp;&nbsp; **ObsID 16235:** 0.71632<br>\n",
    "&nbsp;&nbsp;&nbsp;&nbsp;&nbsp; **ObsID 16305:** 0.69290<br>\n",
    "&nbsp;&nbsp;&nbsp;&nbsp;&nbsp; **ObsID 4200:** 0.79980<br>\n",
    "&nbsp;&nbsp;&nbsp;&nbsp;&nbsp; **ObsID 1655:** 0.78500<br>"
   ]
  },
  {
   "cell_type": "code",
   "execution_count": null,
   "metadata": {
    "collapsed": false
   },
   "outputs": [],
   "source": [
    "rf1=0.71632\n",
    "rf2=0.69290\n",
    "rf3=0.79980\n",
    "rf4=0.78500"
   ]
  },
  {
   "cell_type": "markdown",
   "metadata": {},
   "source": [
    "The normalization factors are also added to the headers of the background images, using the keyword BKGNORM. This keyword will later be used by SurfFit to normalize the background profile and correctly calculate background uncertainties."
   ]
  },
  {
   "cell_type": "code",
   "execution_count": null,
   "metadata": {
    "collapsed": false
   },
   "outputs": [],
   "source": [
    "dmhedit \"merged4/${obsid1}_bin4_500-4000_bgstow_goodreg.img\" none \\\n",
    "    add BKGNORM \"$rf1 / [s] Background normalization\" datatype=float\n",
    "    \n",
    "dmhedit \"merged4/${obsid2}_bin4_500-4000_bgstow_goodreg.img\" none \\\n",
    "    add BKGNORM \"$rf2 / [s] Background normalization\" datatype=float\n",
    "    \n",
    "dmhedit \"merged4/${obsid3}_bin4_500-4000_bgstow_goodreg.img\" none \\\n",
    "    add BKGNORM \"$rf3 / [s] Background normalization\" datatype=float\n",
    "    \n",
    "dmhedit \"merged4/${obsid4}_bin4_500-4000_bgstow_goodreg.img\" none \\\n",
    "    add BKGNORM \"$rf4 / [s] Background normalization\" datatype=float"
   ]
  },
  {
   "cell_type": "markdown",
   "metadata": {},
   "source": [
    "### 9. Create Merged Background Image"
   ]
  },
  {
   "cell_type": "markdown",
   "metadata": {},
   "source": [
    "The individual stowed background images in 0.5-4 keV were normalized by the factors calculated above, and then added into a single image."
   ]
  },
  {
   "cell_type": "code",
   "execution_count": null,
   "metadata": {
    "collapsed": false
   },
   "outputs": [],
   "source": [
    "for i in 1 2 3 4\n",
    "do\n",
    "    obsid_name=\"obsid\"$i\n",
    "    obsid=${!obsid_name}\n",
    "    rf_name=\"rf\"$i\n",
    "    rf=${!rf_name}\n",
    "    exptime_source=`dmkeypar merged4/srcfree_bin1_500-4000_${obsid}_band1_thresh.img EXPOSURE echo+`\n",
    "    exptime_bgstow=`dmkeypar merged4/${obsid}_bin1_500-4000_bgstow_goodreg.img EXPOSURE echo+`\n",
    "    corr=`awk \"BEGIN {print $exptime_source/$exptime_bgstow*$rf}\"`\n",
    "    dmimgcalc merged4/${obsid}_bin1_500-4000_bgstow_goodreg.img none \\\n",
    "        merged4/srcfree_bin1_500-4000_${obsid}_bgstow_renorm.img add weight=$corr clobber+\n",
    "    dmimgcalc merged4/${obsid}_bin2_500-4000_bgstow_goodreg.img none \\\n",
    "        merged4/srcfree_bin2_500-4000_${obsid}_bgstow_renorm.img add weight=$corr clobber+\n",
    "    dmimgcalc merged4/${obsid}_bin4_500-4000_bgstow_goodreg.img none \\\n",
    "        merged4/srcfree_bin4_500-4000_${obsid}_bgstow_renorm.img add weight=$corr clobber+\n",
    "done"
   ]
  },
  {
   "cell_type": "code",
   "execution_count": null,
   "metadata": {
    "collapsed": false
   },
   "outputs": [],
   "source": [
    "for bin in \"bin1\" \"bin2\" \"bin4\"\n",
    "do\n",
    "    dmimgcalc \"merged4/srcfree_${bin}_500-4000_${obsid1}_bgstow_renorm.img, \\\n",
    "               merged4/srcfree_${bin}_500-4000_${obsid2}_bgstow_renorm.img, \\\n",
    "               merged4/srcfree_${bin}_500-4000_${obsid3}_bgstow_renorm.img, \\\n",
    "               merged4/srcfree_${bin}_500-4000_${obsid4}_bgstow_renorm.img\" \\\n",
    "        none merged4/srcfree_${bin}_500-4000_bgstow_renorm.img \\\n",
    "        op=\"imgout=img1+img2+img3+img4\" clobber+\n",
    "done"
   ]
  },
  {
   "cell_type": "markdown",
   "metadata": {},
   "source": [
    "We'll also need an image of the background uncertainties, since simply taking the square root of the background image is not going to yield correct uncertainties. The image created below has the squares of the background uncertainties."
   ]
  },
  {
   "cell_type": "code",
   "execution_count": null,
   "metadata": {
    "collapsed": false
   },
   "outputs": [],
   "source": [
    "for i in 1 2 3 4\n",
    "do\n",
    "    obsid_name=\"obsid\"$i\n",
    "    obsid=${!obsid_name}\n",
    "    rf_name=\"rf\"$i\n",
    "    rf=${!rf_name}\n",
    "    exptime_source=`dmkeypar merged4/srcfree_bin1_500-4000_${obsid}_band1_thresh.img EXPOSURE echo+`\n",
    "    exptime_bgstow=`dmkeypar merged4/${obsid}_bin1_500-4000_bgstow_goodreg.img EXPOSURE echo+`\n",
    "    corr=`awk \"BEGIN {print $exptime_source/$exptime_bgstow*$exptime_source/$exptime_bgstow*$rf*$rf}\"`\n",
    "    dmimgcalc merged4/${obsid}_bin1_500-4000_bgstow_goodreg.img none \\\n",
    "        merged4/srcfree_bin1_500-4000_${obsid}_bgstow_err_renorm.img add weight=$corr clobber+\n",
    "    dmimgcalc merged4/${obsid}_bin2_500-4000_bgstow_goodreg.img none \\\n",
    "        merged4/srcfree_bin2_500-4000_${obsid}_bgstow_err_renorm.img add weight=$corr clobber+\n",
    "    dmimgcalc merged4/${obsid}_bin4_500-4000_bgstow_goodreg.img none \\\n",
    "        merged4/srcfree_bin4_500-4000_${obsid}_bgstow_err_renorm.img add weight=$corr clobber+\n",
    "done\n",
    "\n",
    "for bin in \"bin1\" \"bin2\" \"bin4\"\n",
    "do\n",
    "    dmimgcalc \"merged4/srcfree_${bin}_500-4000_${obsid1}_bgstow_err_renorm.img, \\\n",
    "               merged4/srcfree_${bin}_500-4000_${obsid2}_bgstow_err_renorm.img, \\\n",
    "               merged4/srcfree_${bin}_500-4000_${obsid3}_bgstow_err_renorm.img, \\\n",
    "               merged4/srcfree_${bin}_500-4000_${obsid4}_bgstow_err_renorm.img\" \\\n",
    "        none merged4/srcfree_${bin}_500-4000_bgstow_err_renorm.img \\\n",
    "        op=\"imgout=img1+img2+img3+img4\" clobber+\n",
    "done"
   ]
  },
  {
   "cell_type": "markdown",
   "metadata": {},
   "source": [
    "### 10. Background Modeling"
   ]
  },
  {
   "cell_type": "markdown",
   "metadata": {},
   "source": [
    "Sky background+foreground spectra were extracted from regions free of point sources and ICM emission. The stowed background spectra associated with each of the sky spectra were normalized by the factors calculated above; the normalization was applied to the BACKSCAL keywords. The area (in units of arcmin\\*\\*2) from which the spectra were extracted was written in the keyword AREASCAL for both the sky and the stowed background spectra, which means the `XSpec` models will have normalizations in units of &lt;default XSpec units&gt;/arcmin\\*\\*2."
   ]
  },
  {
   "cell_type": "code",
   "execution_count": null,
   "metadata": {
    "collapsed": false
   },
   "outputs": [],
   "source": [
    "punlearn specextract\n",
    "for i in \"1\" \"2\" \"3\" \"4\"\n",
    "do\n",
    "    obsid_name=\"obsid\"$i\n",
    "    obsid=${!obsid_name}\n",
    "    rf_name=\"rf\"$i\n",
    "    rf=${!rf_name}\n",
    "   specextract infile=\"merged4/${obsid}_goodreg.evt[sky=region(merged4/${obsid}_skybkg.reg)]\" \\\n",
    "       outroot=merged4/${obsid}_skybkg \\\n",
    "       bkgfile=\"merged4/${obsid}_bgstow_goodreg.evt[sky=region(merged4/${obsid}_skybkg.reg)]\" \\\n",
    "       asp=@${obsid}.aspect mskfile=merged4/${obsid}.mask badpixfile=merged4/${obsid}.bpix \\\n",
    "       weight=yes correct=no grouptype=NUM_CTS binspec=1 bkgresp=no clobber=yes\n",
    "    dmkeypar \"merged4/${obsid}_skybkg.pi[SPECTRUM]\" BACKSCAL echo+ >& temp\n",
    "    NewBACKSCAL=`awk '{printf \"%e\\n\",$0/a}' a=${rf} OFS=, temp`\n",
    "    dmhedit \"merged4/${obsid}_skybkg_bkg.pi[SPECTRUM]\" none add key=BACKSCAL value=$NewBACKSCAL\n",
    "    NewAREASCAL=`awk '{printf \"%e\\n\",$0*a}' a=4512.40001536 OFS=, temp`\n",
    "    dmhedit \"merged4/${obsid}_skybkg.pi[SPECTRUM]\" none add key=AREASCAL value=$NewAREASCAL\n",
    "    dmhedit \"merged4/${obsid}_skybkg_bkg.pi[SPECTRUM]\" none add key=AREASCAL value=$NewAREASCAL\n",
    "    dmhedit \"merged4/${obsid}_skybkg_grp.pi[SPECTRUM]\" none add key=AREASCAL value=$NewAREASCAL\n",
    "    rm -f temp\n",
    "done"
   ]
  },
  {
   "cell_type": "markdown",
   "metadata": {},
   "source": [
    "The spectra were fitted in `XSpec` with a model consisting of unabsorbed thermal emission from the Local Hot Bubble, absorbed thermal emission from the Galactic Halo, and absorbed power-law emission from unresolved point sources:\n",
    "\n",
    "&nbsp;&nbsp;&nbsp;&nbsp;&nbsp; `APEC + (APEC + power-law) * phabs`.\n",
    "\n",
    "In this composite model, all the redshifts were fixed to 0, the metallicties to solar (assuming the abundace table of Ferland 1992), and [the absorption to 8.36e20 cm\\*\\*-2](http://www.swift.ac.uk/analysis/nhtot/index.php). The index of the power-law was fixed to 1.41 (De Luca & Molendi 2004). The power-law normalizations were linked for ObsIDs 16235 and 16305, because these observations point almost in the same region of the sky; the normalizations for the other two ObsIDs were untied. The normalizations of the thermal components were tied for all ObsIDs.\n",
    "\n",
    "The fit was done using the C-statistic (Wachter 1979).\n",
    "\n",
    "The best-fitting parameters obtained were (with 1-sigma uncertainties):"
   ]
  },
  {
   "cell_type": "markdown",
   "metadata": {},
   "source": [
    "`GH temperature                               0.50939      0.679356       (-0.0830017,0.0869636)\n",
    "GH normalization                             2.34089e-07  3.23616e-07    (-4.40694e-08,4.54579e-08)\n",
    "PL normalization for ObsIDs 16235 and 16305  4.07855e-07  4.79302e-07    (-3.65226e-08,3.49236e-08)\n",
    "PL normalization for ObsID 4200              6.43973e-07  7.50144e-07    (-5.76677e-08,4.85034e-08)`"
   ]
  },
  {
   "cell_type": "markdown",
   "metadata": {},
   "source": [
    "The fitting parameters were defined in the file `merged4/bkg.xcm`, which is included in the repository. The log file associated with this Xspec file is `merged4/bkg.log`, which is also available. We noticed possible residual soft proton contamination in ObsID 1655, so this ObsID was excluded from the analysis. The best-fitting parameters listed above were obtained from the remaining three ObsIDs."
   ]
  },
  {
   "cell_type": "markdown",
   "metadata": {},
   "source": [
    "### 11. Large-Scale SE Filament"
   ]
  },
  {
   "cell_type": "markdown",
   "metadata": {},
   "source": [
    "We examined the surface brightness along the filament in a box region defined as:\n",
    "\n",
    "`box(7:17:48.681,+37:42:57.79,58.8752\",393.408\",134)`.\n",
    "\n",
    "This region includes part of the cluster ICM, and the group located along the filament. Therefore, we used the surface brightness profile to identify the subregion where the profile was flat, which would be indicative of it containing only filament emission. The surface brightness does not perfectly flatten between the cluster and the filament. However, it is almost flat in the region:\n",
    "\n",
    "`box(7:17:47.661,+37:43:09.31,58.572\",87.8177\",134)`.\n",
    "\n",
    "Hence, we used this region to extract a spectrum of the filament. Nevertheless, this region might be contaminated by cluster emission. To verify this and possibly remove the ICM contribution, we also extracted spectra in a box region located W of the filament region:\n",
    "\n",
    "`box(7:17:38.303,+37:41:29.44,222.972\",106.291\",134)`."
   ]
  },
  {
   "cell_type": "code",
   "execution_count": null,
   "metadata": {
    "collapsed": false
   },
   "outputs": [],
   "source": [
    "punlearn specextract\n",
    "for i in \"1\" \"2\" \"3\" \"4\"\n",
    "do\n",
    "    for reg in \"filament-w\" \"filament\"\n",
    "    do\n",
    "        obsid_name=\"obsid\"$i\n",
    "        obsid=${!obsid_name}\n",
    "        rf_name=\"rf\"$i\n",
    "        rf=${!rf_name}\n",
    "        specextract infile=\"merged4/${obsid}_goodreg.evt[sky=region(merged4/$reg.reg)]\" \\\n",
    "            outroot=merged4/${obsid}_$reg \\\n",
    "            bkgfile=\"merged4/${obsid}_bgstow_goodreg.evt[sky=region(merged4/$reg.reg)]\" \\\n",
    "            asp=@${obsid}.aspect mskfile=merged4/${obsid}.mask badpixfile=merged4/${obsid}.bpix \\\n",
    "            weight=yes correct=no grouptype=NUM_CTS binspec=1 bkgresp=no clobber=yes\n",
    "        dmkeypar \"merged4/${obsid}_${reg}.pi[SPECTRUM]\" BACKSCAL echo+ >& temp\n",
    "        NewBACKSCAL=`awk '{printf \"%e\\n\",$0/a}' a=${rf} OFS=, temp`\n",
    "        dmhedit \"merged4/${obsid}_${reg}_bkg.pi[SPECTRUM]\" none add key=BACKSCAL value=$NewBACKSCAL\n",
    "        NewAREASCAL=`awk '{printf \"%e\\n\",$0*a}' a=4512.40001536 OFS=, temp`\n",
    "        dmhedit \"merged4/${obsid}_${reg}.pi[SPECTRUM]\" none add key=AREASCAL value=$NewAREASCAL\n",
    "        dmhedit \"merged4/${obsid}_${reg}_bkg.pi[SPECTRUM]\" none add key=AREASCAL value=$NewAREASCAL\n",
    "        dmhedit \"merged4/${obsid}_${reg}_grp.pi[SPECTRUM]\" none add key=AREASCAL value=$NewAREASCAL\n",
    "        rm -f temp\n",
    "    done\n",
    "done"
   ]
  },
  {
   "cell_type": "markdown",
   "metadata": {},
   "source": [
    "The spectra extracted above were fitted with a model consisting of sky background emission (whose parameters were fixed to the best-fitting values determined above) and thermal emission from the ICM/filament, i.e.\n",
    "\n",
    "&nbsp;&nbsp;&nbsp;&nbsp;&nbsp; `APEC + (APEC + power-law + APEC) * phabs`.\n",
    "\n",
    "For the ICM/filament component, the redshift was fixed to 0.546 and the metallicity was originally fixed to 0.2 solar. We assumed the ICM properties to be the same W and E of the filament, so the temperatures and normalizations for these spectra were linked in the fit. The best-fitting parameters were found to be (again with 1-sigma uncertainties):\n",
    "\n",
    "##### Filament:\n",
    "\n",
    "`Temperature          2.99482      5.18358        (-0.959026,1.22973)\n",
    "Normalization        4.11539e-05  5.10886e-05    (-4.46512e-06,5.46957e-06)`\n",
    "\n",
    "##### W of the Filament\n",
    "\n",
    "`Temperature          5.01189      13.5261        (-2.46303,6.05122)\n",
    "Normalization        1.43889e-05  1.70644e-05    (-1.24561e-06,1.42993e-06)`\n"
   ]
  },
  {
   "cell_type": "markdown",
   "metadata": {},
   "source": [
    "Because the ICM flux is clearly not 0 at the location of the filament, we performed another fit in which we modeled the filament with the sum of thermal emission from the filament and thermal emission from the ICM. In this fit, we simultaneously modeled the spectra W of the filament and the filament spectra. The best-fitting parameters are listed below:\n",
    "\n",
    "##### Filament:\n",
    "\n",
    "`Temperature          1.32742      2.09035        (-0.250027,0.512902)\n",
    "Normalization        3.39348e-05  4.55738e-05    (-6.0474e-06,5.59153e-06)`\n",
    "\n",
    "##### W of the Filament\n",
    "\n",
    "`Temperature          7.72584      20.7628        (-3.94875,9.08823)\n",
    "Normalization        1.45026e-05  1.68793e-05    (-1.0259e-06,1.35081e-06)`"
   ]
  },
  {
   "cell_type": "markdown",
   "metadata": {},
   "source": [
    "Abundances of large-scale cosmic filaments are very uncertain. They could be ~0.2 solar, similar to the abundances at the virial radii of galaxy clusters, or could decrease close to 0. Therefore, we also performed the fit above assuming filament metallicities of 0 and 0.1 solar. The best-fitting parameters were:\n",
    "\n",
    "#### Metallicity Z = 0.1 solar\n",
    "\n",
    "##### Filament:\n",
    "\n",
    "`Temperature          1.24258      2.10665        (-0.27294,0.591133)\n",
    "Normalization        3.7239e-05   5.62527e-05    (-9.97053e-06,9.04315e-06)`\n",
    "\n",
    "##### W of the Filament\n",
    "\n",
    "`Temperature          7.69544      20.5753        (-4.27099,8.60885)\n",
    "Normalization        1.45329e-05  1.68823e-05    (-1.05989e-06,1.28954e-06)`\n",
    "\n",
    "\n",
    "#### Metallicity Z = 0\n",
    "\n",
    "##### Filament:\n",
    "\n",
    "`Temperature          1.24889      3.40061        (-0.687375,1.46435)\n",
    "Normalization        3.07955e-05  7.02732e-05    (-1.4326e-05,2.51517e-05)`\n",
    "\n",
    "##### W of the Filament\n",
    "\n",
    "`Temperature          6.0074       17.5577        (-5.22587,6.32448)\n",
    "Normalization        1.43169e-05  1.66366e-05    (-1.14315e-06,1.1766e-06)`\n",
    "\n",
    "**We conclude that the effect of the unknown metallicity is small compared to the much larger statistical uncertainties.**"
   ]
  },
  {
   "cell_type": "markdown",
   "metadata": {},
   "source": [
    "### 12. Density of the Filament"
   ]
  },
  {
   "cell_type": "markdown",
   "metadata": {},
   "source": [
    "The `XSpec` normalizations listed above are defined as:\n",
    "\n",
    "`N = 1e-14/pi/S/D**2/(1+z)**2 * n_e * n_H * V`\n",
    "\n",
    "where:\n",
    "\n",
    "S - projected area of the region from which the spectrum was extracted\n",
    "D - angular size distance at the cluster redshift\n",
    "z - cluster redshift\n",
    "n_e - electron number density\n",
    "n_H - hydrogen number density\n",
    "V - volume of the region from which the spectrum was extracted\n",
    "\n",
    "and we assumed the density to be constant within the regions of interest.\n",
    "\n",
    "To calculate the density of the gas within the region of the filament from which our spectra were extracted, we assumed an elliptic cylinder geometry. Jauzac et al. (2012) found that the filament is inclined at 75 degrees with respect to the plane of the sky, and has a diameter of about 1.6 Mpc and a length of about 19 Mpc (as in the paper, we assumed H0 = 70 km/s/Mpc, omega_m = 0.3, and omega_v = 0.7). Therefore, we assumed our region is an elliptical cylinder with a length L = 2.2 Mpc (~87.8\" / cos(75 deg)), and a base with a major axis a = 0.8 Mpc and a minor axis b = 0.2 Mpc (~29.3\"). The volume of this region is:\n",
    "\n",
    "`V = pi * L * a * b = 1.1 Mpc**3`\n",
    "\n",
    "We assumed `n_H = 1.2 * n_e` (e.g. Böhringer and Werner 2010). In our cosmology, the angular size distance at the cluster redshift is 1316.4 Mpc. Therefore, for an `XSpec` normalization of ~3e-5 cm\\*\\*-5 arcmin\\*\\*-2 and a projected region area of 1.4 arcmin\\*\\*2, we found an electron number density of ~1e-4 cm\\*\\*-3. This is equivalent with a baryon mass of ~3e12 solar masses. Assuming a baryon fraction of 0.044 (Kirkman et al. 2003), the filament is over-dense by a factor of ~220 compared to the mean baryon density of the Universe. Furthermore, assuming a baryon fraction of 0.15 (Mantz et al. 2014), the total mass of the filament in the region from which our spectra were extracted is ~2e13 solar masses. Accounting for the full length of the filament and assuming a cylindrical geometry, the total mass of the filament is ~7e14 solar masses."
   ]
  },
  {
   "cell_type": "markdown",
   "metadata": {
    "collapsed": true
   },
   "source": [
    "### 13. Group in the Filament"
   ]
  },
  {
   "cell_type": "code",
   "execution_count": null,
   "metadata": {
    "collapsed": false
   },
   "outputs": [],
   "source": [
    "reg=\"group\"\n",
    "punlearn specextract\n",
    "for i in \"1\" \"2\" \"3\" \"4\"\n",
    "do\n",
    "    obsid_name=\"obsid\"$i\n",
    "    obsid=${!obsid_name}\n",
    "    rf_name=\"rf\"$i\n",
    "    rf=${!rf_name}\n",
    "    specextract infile=\"merged4/${obsid}_goodreg.evt[sky=region(merged4/$reg.reg)]\" \\\n",
    "        outroot=merged4/${obsid}_$reg \\\n",
    "        bkgfile=\"merged4/${obsid}_bgstow_goodreg.evt[sky=region(merged4/$reg.reg)]\" \\\n",
    "        asp=@${obsid}.aspect mskfile=merged4/${obsid}.mask badpixfile=merged4/${obsid}.bpix \\\n",
    "        weight=yes correct=no grouptype=NUM_CTS binspec=1 bkgresp=no clobber=yes\n",
    "    dmkeypar \"merged4/${obsid}_${reg}.pi[SPECTRUM]\" BACKSCAL echo+ >& temp\n",
    "    NewBACKSCAL=`awk '{printf \"%e\\n\",$0/a}' a=${rf} OFS=, temp`\n",
    "    dmhedit \"merged4/${obsid}_${reg}_bkg.pi[SPECTRUM]\" none add key=BACKSCAL value=$NewBACKSCAL\n",
    "    NewAREASCAL=`awk '{printf \"%e\\n\",$0*a}' a=4512.40001536 OFS=, temp`\n",
    "    dmhedit \"merged4/${obsid}_${reg}.pi[SPECTRUM]\" none add key=AREASCAL value=$NewAREASCAL\n",
    "    dmhedit \"merged4/${obsid}_${reg}_bkg.pi[SPECTRUM]\" none add key=AREASCAL value=$NewAREASCAL\n",
    "    dmhedit \"merged4/${obsid}_${reg}_grp.pi[SPECTRUM]\" none add key=AREASCAL value=$NewAREASCAL\n",
    "    rm -f temp\n",
    "done"
   ]
  },
  {
   "cell_type": "code",
   "execution_count": null,
   "metadata": {
    "collapsed": false
   },
   "outputs": [],
   "source": [
    "punlearn specextract\n",
    "for i in \"1\" \"2\" \"3\" \"4\"\n",
    "do\n",
    "    for reg in \"core-n-alt\" #\"core\" \"core-front\" \"core-behind\" \"core-n\" \"core-s\"\n",
    "    do\n",
    "        obsid_name=\"obsid\"$i\n",
    "        obsid=${!obsid_name}\n",
    "        rf_name=\"rf\"$i\n",
    "        rf=${!rf_name}\n",
    "        specextract infile=\"merged4/${obsid}_goodreg.evt[sky=region(merged4/$reg.reg)]\" \\\n",
    "            outroot=merged4/${obsid}_$reg \\\n",
    "            bkgfile=\"merged4/${obsid}_bgstow_goodreg.evt[sky=region(merged4/$reg.reg)]\" \\\n",
    "            asp=@${obsid}.aspect mskfile=merged4/${obsid}.mask badpixfile=merged4/${obsid}.bpix \\\n",
    "            weight=yes correct=no grouptype=NUM_CTS binspec=1 bkgresp=no clobber=yes\n",
    "        dmkeypar \"merged4/${obsid}_${reg}.pi[SPECTRUM]\" BACKSCAL echo+ >& temp\n",
    "        NewBACKSCAL=`awk '{printf \"%e\\n\",$0/a}' a=${rf} OFS=, temp`\n",
    "        dmhedit \"merged4/${obsid}_${reg}_bkg.pi[SPECTRUM]\" none add key=BACKSCAL value=$NewBACKSCAL\n",
    "        NewAREASCAL=`awk '{printf \"%e\\n\",$0*a}' a=4512.40001536 OFS=, temp`\n",
    "        dmhedit \"merged4/${obsid}_${reg}.pi[SPECTRUM]\" none add key=AREASCAL value=$NewAREASCAL\n",
    "        dmhedit \"merged4/${obsid}_${reg}_bkg.pi[SPECTRUM]\" none add key=AREASCAL value=$NewAREASCAL\n",
    "        dmhedit \"merged4/${obsid}_${reg}_grp.pi[SPECTRUM]\" none add key=AREASCAL value=$NewAREASCAL\n",
    "        rm -f temp\n",
    "    done\n",
    "done"
   ]
  },
  {
   "cell_type": "code",
   "execution_count": null,
   "metadata": {
    "collapsed": true
   },
   "outputs": [],
   "source": []
  }
 ],
 "metadata": {
  "kernelspec": {
   "display_name": "Bash",
   "language": "bash",
   "name": "bash"
  },
  "language_info": {
   "codemirror_mode": "shell",
   "file_extension": ".sh",
   "mimetype": "text/x-sh",
   "name": "bash"
  }
 },
 "nbformat": 4,
 "nbformat_minor": 0
}

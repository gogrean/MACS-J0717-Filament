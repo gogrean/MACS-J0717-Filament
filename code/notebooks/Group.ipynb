{
 "cells": [
  {
   "cell_type": "code",
   "execution_count": 2,
   "metadata": {
    "collapsed": true
   },
   "outputs": [],
   "source": [
    "import numpy as np\n",
    "from scipy.integrate import quad, dblquad\n",
    "from sympy import diff\n",
    "from scipy.special import gamma"
   ]
  },
  {
   "cell_type": "markdown",
   "metadata": {},
   "source": [
    "The cluster redshift, the angular size diameter, the kpc/arcmin to cm conversions, and the solar mass will be used often, so they are defined here. We also define the critical density at the cluster redshift."
   ]
  },
  {
   "cell_type": "code",
   "execution_count": 3,
   "metadata": {
    "collapsed": true
   },
   "outputs": [],
   "source": [
    "z = 0.546    # redshift of MACS J0717.5+3745\n",
    "kpc = 3.086e21    # 1 kpc in cm\n",
    "d_A = 1.3e6 * kpc    # cm\n",
    "arcmin_to_cm = 383.3 * kpc    # 1 arcmin = 383.3 kpc\n",
    "M_sun = 2e33    # solar mass in grams\n",
    "rho_crit = 1.7e-29    # g cm**-3"
   ]
  },
  {
   "cell_type": "markdown",
   "metadata": {},
   "source": [
    "The temperature of the group in R2500 is between 3.7 and 5.0 keV (T = 4.2 [-0.5,+0.8]; 1-sigma confidence ranges)."
   ]
  },
  {
   "cell_type": "code",
   "execution_count": 4,
   "metadata": {
    "collapsed": true
   },
   "outputs": [],
   "source": [
    "T_low = 3.7    # keV\n",
    "T_high = 5.0    # keV"
   ]
  },
  {
   "cell_type": "markdown",
   "metadata": {},
   "source": [
    "The region from which the spectrum of the group was extracted is a circle with a radius of 300 kpc, approximately corresponding to R2500."
   ]
  },
  {
   "cell_type": "code",
   "execution_count": 5,
   "metadata": {
    "collapsed": true
   },
   "outputs": [],
   "source": [
    "r = 300*kpc    # cm"
   ]
  },
  {
   "cell_type": "markdown",
   "metadata": {},
   "source": [
    "We assume the region from which the spectrum was extracted is a sphere with a radius of 300 kpc. Its volume is:"
   ]
  },
  {
   "cell_type": "code",
   "execution_count": 7,
   "metadata": {
    "collapsed": false
   },
   "outputs": [
    {
     "name": "stdout",
     "output_type": "stream",
     "text": [
      "The volume from which the group spectrum was extracted is 0.113 Mpc**3.\n"
     ]
    }
   ],
   "source": [
    "V = 4./3. * np.pi * r**3    # cm**3\n",
    "print(\"The volume from which the group spectrum was extracted is %.3f Mpc**3.\" \n",
    "          % (V/kpc**3/1e9))"
   ]
  },
  {
   "cell_type": "markdown",
   "metadata": {},
   "source": [
    "The normalization of the group's spectrum is:"
   ]
  },
  {
   "cell_type": "code",
   "execution_count": 8,
   "metadata": {
    "collapsed": true
   },
   "outputs": [],
   "source": [
    "norm = 8.4e-5    # cm**-5 arcmin**-2"
   ]
  },
  {
   "cell_type": "markdown",
   "metadata": {},
   "source": [
    "Assuming the density is constant in our region of interest, the Xspec normalization is defined as \n",
    "\n",
    "norm = n_e \\* n_H \\* cyl_V / ( 1e14 \\* area \\* pi \\* D_A\\*\\*2 \\* (1+z)\\*\\*2 )\n",
    "\n",
    "We assume the hydrogen number density relates to the electron number density as: n_e = 1.2 n_H. For simplicity, we'll also assume a volume equal to the average of the two volumes calculated above. Therefore, the hydrogen number density is:"
   ]
  },
  {
   "cell_type": "code",
   "execution_count": 10,
   "metadata": {
    "collapsed": false
   },
   "outputs": [
    {
     "name": "stdout",
     "output_type": "stream",
     "text": [
      "The mean mass density in the region of the group is 2.4e-27 g/cm**3.\n"
     ]
    }
   ],
   "source": [
    "m_H = 1.7e-24    # grams\n",
    "area = np.pi * r**2 / arcmin_to_cm**2\n",
    "n_H = np.sqrt( norm * 1e14 * area * 4. * np.pi * d_A**2 * (1+z)**2 / (1.2 * V) )\n",
    "rho_H = n_H * m_H\n",
    "\n",
    "print(\"The mean mass density in the region of the group is %.2g g/cm**3.\" % rho_H)"
   ]
  },
  {
   "cell_type": "markdown",
   "metadata": {},
   "source": [
    "The density corresponds to a gas mass of:"
   ]
  },
  {
   "cell_type": "code",
   "execution_count": 11,
   "metadata": {
    "collapsed": false
   },
   "outputs": [
    {
     "name": "stdout",
     "output_type": "stream",
     "text": [
      "The gas mass of the group is ~4e+12 Msun.\n"
     ]
    }
   ],
   "source": [
    "M_gas = rho_H * V / M_sun\n",
    "print(\"The gas mass of the group is ~%.1g Msun.\" % M_gas)"
   ]
  },
  {
   "cell_type": "markdown",
   "metadata": {},
   "source": [
    "We used the luminosity-mass scaling relations determined by Connor et al. (2014) to estimate the total mass of the group. The group's normalization is equivalent to a 0.5-2 keV flux of 4.5e-14 erg/cm\\*\\*2/s, or a R2500 bolometric flux of 1.1e-13 erg/cm\\*\\*/s."
   ]
  },
  {
   "cell_type": "code",
   "execution_count": 13,
   "metadata": {
    "collapsed": false
   },
   "outputs": [
    {
     "name": "stdout",
     "output_type": "stream",
     "text": [
      "The group's bolometric luminosity in R2500 is 1.31e+44 erg/s.\n"
     ]
    }
   ],
   "source": [
    "d_L = 3149.3e3 * kpc    # cm\n",
    "F2500 = 1.1e-13    # erg/cm**2/s\n",
    "L2500 = F2500 * 4. * np.pi * d_L**2\n",
    "print(\"The group's bolometric luminosity in R2500 is %.2e erg/s.\" % L2500)"
   ]
  },
  {
   "cell_type": "markdown",
   "metadata": {},
   "source": [
    "Based on the luminosity-mass scaling relation shown in fig. 4 of Connor et al. (2014), the group's luminosity corresponds to a mass of ~6-7e13 Msun."
   ]
  },
  {
   "cell_type": "code",
   "execution_count": null,
   "metadata": {
    "collapsed": true
   },
   "outputs": [],
   "source": []
  }
 ],
 "metadata": {
  "kernelspec": {
   "display_name": "Python 3",
   "language": "python",
   "name": "python3"
  },
  "language_info": {
   "codemirror_mode": {
    "name": "ipython",
    "version": 3
   },
   "file_extension": ".py",
   "mimetype": "text/x-python",
   "name": "python",
   "nbconvert_exporter": "python",
   "pygments_lexer": "ipython3",
   "version": "3.5.2"
  }
 },
 "nbformat": 4,
 "nbformat_minor": 0
}
